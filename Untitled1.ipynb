{
 "cells": [
  {
   "cell_type": "code",
   "execution_count": 11,
   "id": "1f2668c6",
   "metadata": {},
   "outputs": [
    {
     "name": "stdout",
     "output_type": "stream",
     "text": [
      "1\n",
      "4\n",
      "8\n",
      "8\n",
      "5\n"
     ]
    }
   ],
   "source": [
    "import random\n",
    "for i in range(5) :\n",
    "    data = random.randint(1,10)\n",
    "    print(data)"
   ]
  },
  {
   "cell_type": "code",
   "execution_count": 12,
   "id": "96f14dbb",
   "metadata": {},
   "outputs": [],
   "source": [
    "random.seed(10) # 뱉어내는 랜덤함수의 출력값을 같게 호출"
   ]
  }
 ],
 "metadata": {
  "kernelspec": {
   "display_name": "Python 3 (ipykernel)",
   "language": "python",
   "name": "python3"
  },
  "language_info": {
   "codemirror_mode": {
    "name": "ipython",
    "version": 3
   },
   "file_extension": ".py",
   "mimetype": "text/x-python",
   "name": "python",
   "nbconvert_exporter": "python",
   "pygments_lexer": "ipython3",
   "version": "3.8.13"
  }
 },
 "nbformat": 4,
 "nbformat_minor": 5
}
